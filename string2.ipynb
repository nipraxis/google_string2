{
 "cells": [
  {
   "cell_type": "markdown",
   "id": "1182e67c",
   "metadata": {},
   "source": [
    "# Basic string exercises 2\n",
    "\n",
    "Copyright 2010 Google Inc. Licensed under the Apache License, Version 2.0\n",
    "<http://www.apache.org/licenses/LICENSE-2.0>\n",
    "\n",
    "Google's Python Class:\n",
    "<http://code.google.com/edu/languages/google-python-class/>"
   ]
  },
  {
   "cell_type": "markdown",
   "id": "50837420",
   "metadata": {},
   "source": [
    "## Introduction\n",
    "\n",
    "Fill in the code for the functions below.\n",
    "\n",
    "When you have filled in the code for the function, run the tests for the function in the cell below the function.\n",
    "\n",
    "The tests call the function with a few different inputs.  If the function is not correct, they will give an `AssertionError`.  If the function appears to be correct, the test cell will run without error.\n",
    "\n",
    "The starter code for each function includes a `return` which is just a\n",
    "placeholder for your code.\n",
    "\n",
    "It's OK if you do not complete all the functions, and there are some\n",
    "additional functions to try in the `google_string2` exercise.\n"
   ]
  },
  {
   "cell_type": "markdown",
   "id": "b779e34f",
   "metadata": {},
   "source": [
    "## verbing\n",
    "\n",
    "Given a string, if its length is at least 3, add 'ing' to its end.\n",
    "Unless it already ends in 'ing', in which case add 'ly' instead.\n",
    "If the string length is less than 3, leave it unchanged.\n",
    "Return the resulting string."
   ]
  },
  {
   "cell_type": "code",
   "execution_count": null,
   "id": "35ab89c5",
   "metadata": {},
   "outputs": [],
   "source": [
    "def verbing(s):\n",
    "    #- +++your code here+++\n",
    "    if len(s) ... :\n",
    "    return"
   ]
  },
  {
   "cell_type": "code",
   "execution_count": null,
   "id": "c09d4259",
   "metadata": {},
   "outputs": [],
   "source": [
    "# Run this cell to test your function\n",
    "assert verbing('hail') == 'hailing'\n",
    "assert verbing('swiming') == 'swimingly'\n",
    "assert verbing('do') == 'do'"
   ]
  },
  {
   "cell_type": "markdown",
   "id": "a383724a",
   "metadata": {},
   "source": [
    "## not_bad\n",
    "\n",
    "Given a string, find the first appearance of the substring 'not' and 'bad'.\n",
    "If the 'bad' follows the 'not', replace the whole 'not'...'bad' substring\n",
    "with 'good'.\n",
    "Return the resulting string.\n",
    "So 'This dinner is not that bad!' yields: \"This dinner is good!\""
   ]
  },
  {
   "cell_type": "code",
   "execution_count": null,
   "id": "ddee9ee8",
   "metadata": {},
   "outputs": [],
   "source": [
    "def not_bad(s):\n",
    "    #- +++your code here+++\n",
    "    return"
   ]
  },
  {
   "cell_type": "code",
   "execution_count": null,
   "id": "8d126baa",
   "metadata": {},
   "outputs": [],
   "source": [
    "# Run this cell to test your function\n",
    "assert not_bad('This movie is not so bad') == 'This movie is good'\n",
    "assert not_bad('This dinner is not that bad!') == 'This dinner is good!'\n",
    "assert not_bad('This tea is not hot') == 'This tea is not hot'\n",
    "assert not_bad(\"It's bad yet not\") == \"It's bad yet not\""
   ]
  },
  {
   "cell_type": "markdown",
   "id": "2111e19f",
   "metadata": {},
   "source": [
    "## front_back\n",
    "\n",
    "Consider dividing a string into two halves.\n",
    "If the length is even, the front and back halves are the same length.\n",
    "If the length is odd, we'll say that the extra char goes in the front half.\n",
    "For example, in 'abcde', the front half is 'abc', the back half 'de'.\n",
    "\n",
    "Given 2 strings, a and b, return a string of the form\n",
    "`a-front + b-front + a-back + b-back`"
   ]
  },
  {
   "cell_type": "code",
   "execution_count": null,
   "id": "dabe892d",
   "metadata": {},
   "outputs": [],
   "source": [
    "def front_back(a, b):\n",
    "    #- +++your code here+++\n",
    "    return"
   ]
  },
  {
   "cell_type": "code",
   "execution_count": null,
   "id": "57ba9e06",
   "metadata": {},
   "outputs": [],
   "source": [
    "# Run this cell to test your function\n",
    "assert front_back('abcd', 'xy') == 'abxcdy'\n",
    "assert front_back('abcde', 'xyz') == 'abcxydez'\n",
    "assert front_back('Kitten', 'Donut') == 'KitDontenut'"
   ]
  },
  {
   "cell_type": "markdown",
   "id": "2fa0fbbd",
   "metadata": {},
   "source": [
    "## That's it!\n",
    "\n",
    "You've finished the exercise."
   ]
  }
 ],
 "metadata": {
  "jupytext": {
   "cell_metadata_filter": "-all",
   "notebook_metadata_filter": "all,-language_info",
   "split_at_heading": true,
   "text_representation": {
    "extension": ".Rmd",
    "format_name": "rmarkdown",
    "format_version": "1.2",
    "jupytext_version": "1.13.7"
   }
  },
  "kernelspec": {
   "display_name": "Python 3",
   "language": "python",
   "name": "python3"
  }
 },
 "nbformat": 4,
 "nbformat_minor": 5
}
